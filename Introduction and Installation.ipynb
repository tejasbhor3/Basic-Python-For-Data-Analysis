{
 "cells": [
  {
   "cell_type": "raw",
   "metadata": {},
   "source": [
    "Python is fast becoming the preferred language in data science – and for good reason(s). It provides the larger ecosystem of a programming language and the depth of good scientific computation libraries. If you are starting to learn Python, have a look at this course Python for Data Science.\n",
    "\n",
    "Pandas is a fast, powerful, flexible and easy to use open source data analysis and manipulation tool\n",
    "\n",
    "Among its scientific computation libraries, Pandas is one of the most useful for data science operations. Pandas, along with Scikit-learn provides almost the entire stack needed by a data scientist.\n",
    "\n",
    "In this course we will cover various things one can do using Pandas in data analysis:\n",
    "\n",
    "Importing Data\n",
    "Writing to different formats\n",
    "Pandas Data Structures\n",
    "Data Exploration\n",
    "Data Manipulation\n",
    "Aggregating Data\n",
    "Merging Data  \n"
   ]
  },
  {
   "cell_type": "code",
   "execution_count": null,
   "metadata": {},
   "outputs": [],
   "source": [
    "#INSTALLATION\n"
   ]
  },
  {
   "cell_type": "raw",
   "metadata": {},
   "source": [
    "The easiest way to install pandas is to install it as part of the Anaconda distribution, a cross platform distribution for data analysis and scientific computing. This is the recommended installation method for most users.\n",
    "\n",
    "Python version support\n",
    "\n",
    "Pandas is officially supported by Python 3.6.1 and above, 3.7, and 3.8.\n",
    "\n",
    "\n",
    "\n",
    "Installing with Anaconda\n",
    "Installing pandas and the rest of the NumPy and SciPy stack can be a little difficult for inexperienced users.\n",
    "\n",
    "The simplest way to install not only pandas, but Python and the most popular packages that make up the SciPy stack (IPython, NumPy, Matplotlib, …) is with Anaconda, a cross-platform (Linux, Mac OS X, Windows) Python distribution for data analytics and scientific computing.\n",
    "\n",
    "After running the installer, the user will have access to pandas and the rest of the SciPy stack without needing to install anything else, and without needing to wait for any software to be compiled.\n",
    "\n",
    "Installation instructions for Anaconda can be found here.\n",
    "\n",
    "A full list of the packages available as part of the Anaconda distribution can be found here.\n",
    "\n",
    "Another advantage to installing Anaconda is that you don’t need admin rights to install it. Anaconda can install in the user’s home directory, which makes it trivial to delete Anaconda if you decide (just delete that folder).\n",
    "\n",
    "\n",
    "Installing with Miniconda\n",
    "The previous section outlined how to get pandas installed as part of the Anaconda distribution. However this approach means you will install well over one hundred packages and involves downloading the installer which is a few hundred megabytes in size.\n",
    "\n",
    "If you want to have more control on which packages, or have a limited internet bandwidth, then installing pandas with Miniconda may be a better solution.\n",
    "\n",
    "Conda is the package manager that the Anaconda distribution is built upon. It is a package manager that is both cross-platform and language agnostic (it can play a similar role to a pip and virtualenv combination).\n",
    "\n",
    "Miniconda allows you to create a minimal self contained Python installation, and then use the Conda command to install additional packages.\n",
    "\n",
    "First you will need Conda to be installed and downloading and running the Miniconda will do this for you. The installer can be found here\n",
    "\n",
    "The next step is to create a new conda environment. A conda environment is like a virtualenv that allows you to specify a specific version of Python and set of libraries. Run the following commands from a terminal window:\n",
    "\n",
    "conda create -n name_of_my_env python\n",
    "\n",
    "\n",
    "This will create a minimal environment with only Python installed in it. To put your self inside this environment run:\n",
    "\n",
    "source activate name_of_my_env\n",
    "\n",
    "\n",
    "On Windows the command is:\n",
    "\n",
    "activate name_of_my_env\n",
    "\n",
    "\n",
    "The final step required is to install pandas. This can be done with the following command:\n",
    "\n",
    "conda install pandas\n",
    "\n",
    "\n",
    "To install a specific pandas version:\n",
    "\n",
    "conda install pandas=0.20.3\n",
    "\n",
    "\n",
    "To install other packages, IPython for example:\n",
    "\n",
    "conda install ipython\n",
    "\n",
    "\n",
    "To install the full Anaconda distribution:\n",
    "\n",
    "conda install anaconda\n"
   ]
  }
 ],
 "metadata": {
  "kernelspec": {
   "display_name": "Python 3",
   "language": "python",
   "name": "python3"
  },
  "language_info": {
   "codemirror_mode": {
    "name": "ipython",
    "version": 3
   },
   "file_extension": ".py",
   "mimetype": "text/x-python",
   "name": "python",
   "nbconvert_exporter": "python",
   "pygments_lexer": "ipython3",
   "version": "3.8.5"
  }
 },
 "nbformat": 4,
 "nbformat_minor": 4
}
