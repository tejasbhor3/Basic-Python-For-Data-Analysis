{
 "cells": [
  {
   "cell_type": "markdown",
   "metadata": {},
   "source": [
    "# Understanding File System & shell commands\n",
    "\n"
   ]
  },
  {
   "cell_type": "code",
   "execution_count": null,
   "metadata": {},
   "outputs": [],
   "source": [
    "The filesystem\n",
    "Before you can use pandas to import your data, you need to know where your data is in your filesystem and what your current working directory is.\n",
    "\n",
    "Everything on the computer is stored in the filesystem.\n",
    "\"Directories\" is just another word for \"folders\", and the \"working directory\" is simply the folder you're currently in. \n",
    "The Introduction to Shell for Data Science course on DataCamp will give you a full, hands-on experience with its utility, but here are some basic Shell commands to navigate your way in the filesystem:\n",
    "\n",
    "The ls command lists all content in the current working directory.\n",
    "The cd command followed by:\n",
    "the name of a sub-directory allows you to change your working directory to the sub-directory you specify.\n",
    ".. allows you to navigate back to the parent directory of your current working directory.\n",
    "The pwd command prints the path of your current working directory.\n",
    "Importing data is the first step in any data science project. Pandas provides functions to read different types of files in Python namely csv, excel, json and more."
   ]
  },
  {
   "cell_type": "markdown",
   "metadata": {},
   "source": [
    "# Writing Data using Pandas\n",
    "\n"
   ]
  },
  {
   "cell_type": "code",
   "execution_count": null,
   "metadata": {},
   "outputs": [],
   "source": [
    "Write a CSV File\n",
    "You can save your Pandas DataFrame as a CSV file with .to_csv():\n",
    "\n",
    "df.to_csv('data.csv')\n",
    "\n",
    "That’s it! You’ve created the file data.csv in your current working directory. \n",
    "You can expand the code block below to see how your CSV file should look:\n",
    "\n",
    "This text file contains the data separated with commas. The first column contains the row labels. In some cases, you’ll find them irrelevant. If you don’t want to keep them, then you can pass the argument index=False to .to_csv().\n",
    "\n",
    "\n",
    "\n",
    "Write an Excel File\n",
    "Once you have those packages installed, you can save your DataFrame in an Excel file with .to_excel():\n",
    "\n",
    "df.to_excel('data.xlsx')\n",
    "The argument 'data.xlsx' represents the target file and, optionally, its path. The above statement should create the file data.xlsx in your current working directory.\n",
    "\n",
    "\n",
    "\n",
    "Write Files\n",
    "Series and DataFrame objects have methods that enable writing data and labels to the clipboard or files. They’re named with the pattern .to_<file-type>(), where <file-type> is the type of the target file.\n",
    "\n",
    "You’ve learned about .to_csv() and .to_excel(), but there are others, including:\n",
    "\n",
    ".to_json()\n",
    ".to_html()\n",
    ".to_sql()\n",
    ".to_pickle()\n",
    "There are still more file types that you can write to, so this list is not exhaustive. "
   ]
  }
 ],
 "metadata": {
  "kernelspec": {
   "display_name": "Python 3",
   "language": "python",
   "name": "python3"
  },
  "language_info": {
   "codemirror_mode": {
    "name": "ipython",
    "version": 3
   },
   "file_extension": ".py",
   "mimetype": "text/x-python",
   "name": "python",
   "nbconvert_exporter": "python",
   "pygments_lexer": "ipython3",
   "version": "3.8.5"
  }
 },
 "nbformat": 4,
 "nbformat_minor": 4
}
